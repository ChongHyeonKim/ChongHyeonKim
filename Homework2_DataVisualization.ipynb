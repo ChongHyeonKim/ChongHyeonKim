{
  "cells": [
    {
      "cell_type": "code",
      "execution_count": 26,
      "metadata": {
        "id": "rFq7DIl8WdRp"
      },
      "outputs": [],
      "source": [
        "#from google.colab import files\n",
        "from IPython.display import Image\n",
        "import seaborn as sns\n",
        "import matplotlib.pyplot as plt\n",
        "import sklearn.tree as tree\n",
        "\n",
        "# Load the iris dataset\n",
        "iris = sns.load_dataset(\"iris\")"
      ]
    },
    {
      "cell_type": "code",
      "execution_count": 27,
      "metadata": {
        "id": "4nZmcU1editt"
      },
      "outputs": [
        {
          "data": {
            "text/html": [
              "<div>\n",
              "<style scoped>\n",
              "    .dataframe tbody tr th:only-of-type {\n",
              "        vertical-align: middle;\n",
              "    }\n",
              "\n",
              "    .dataframe tbody tr th {\n",
              "        vertical-align: top;\n",
              "    }\n",
              "\n",
              "    .dataframe thead th {\n",
              "        text-align: right;\n",
              "    }\n",
              "</style>\n",
              "<table border=\"1\" class=\"dataframe\">\n",
              "  <thead>\n",
              "    <tr style=\"text-align: right;\">\n",
              "      <th></th>\n",
              "      <th>sepal_length</th>\n",
              "      <th>sepal_width</th>\n",
              "      <th>petal_length</th>\n",
              "      <th>petal_width</th>\n",
              "      <th>species</th>\n",
              "    </tr>\n",
              "  </thead>\n",
              "  <tbody>\n",
              "    <tr>\n",
              "      <th>64</th>\n",
              "      <td>5.6</td>\n",
              "      <td>2.9</td>\n",
              "      <td>3.6</td>\n",
              "      <td>1.3</td>\n",
              "      <td>versicolor</td>\n",
              "    </tr>\n",
              "    <tr>\n",
              "      <th>6</th>\n",
              "      <td>4.6</td>\n",
              "      <td>3.4</td>\n",
              "      <td>1.4</td>\n",
              "      <td>0.3</td>\n",
              "      <td>setosa</td>\n",
              "    </tr>\n",
              "    <tr>\n",
              "      <th>130</th>\n",
              "      <td>7.4</td>\n",
              "      <td>2.8</td>\n",
              "      <td>6.1</td>\n",
              "      <td>1.9</td>\n",
              "      <td>virginica</td>\n",
              "    </tr>\n",
              "    <tr>\n",
              "      <th>38</th>\n",
              "      <td>4.4</td>\n",
              "      <td>3.0</td>\n",
              "      <td>1.3</td>\n",
              "      <td>0.2</td>\n",
              "      <td>setosa</td>\n",
              "    </tr>\n",
              "    <tr>\n",
              "      <th>133</th>\n",
              "      <td>6.3</td>\n",
              "      <td>2.8</td>\n",
              "      <td>5.1</td>\n",
              "      <td>1.5</td>\n",
              "      <td>virginica</td>\n",
              "    </tr>\n",
              "  </tbody>\n",
              "</table>\n",
              "</div>"
            ],
            "text/plain": [
              "     sepal_length  sepal_width  petal_length  petal_width     species\n",
              "64            5.6          2.9           3.6          1.3  versicolor\n",
              "6             4.6          3.4           1.4          0.3      setosa\n",
              "130           7.4          2.8           6.1          1.9   virginica\n",
              "38            4.4          3.0           1.3          0.2      setosa\n",
              "133           6.3          2.8           5.1          1.5   virginica"
            ]
          },
          "execution_count": 27,
          "metadata": {},
          "output_type": "execute_result"
        }
      ],
      "source": [
        "# Show the 5-th sample in the iris dataset\n",
        "iris.sample(5)"
      ]
    },
    {
      "cell_type": "code",
      "execution_count": 28,
      "metadata": {
        "id": "osg1mbVSdng9"
      },
      "outputs": [
        {
          "data": {
            "text/plain": [
              "setosa        50\n",
              "versicolor    50\n",
              "virginica     50\n",
              "Name: species, dtype: int64"
            ]
          },
          "execution_count": 28,
          "metadata": {},
          "output_type": "execute_result"
        }
      ],
      "source": [
        "import pandas as pd\n",
        "\n",
        "# Print the counts for the class-wise samples\n",
        "pd.value_counts(iris.species)"
      ]
    },
    {
      "cell_type": "code",
      "execution_count": 29,
      "metadata": {
        "id": "XoTV1XFydpTs"
      },
      "outputs": [
        {
          "data": {
            "text/html": [
              "<div>\n",
              "<style scoped>\n",
              "    .dataframe tbody tr th:only-of-type {\n",
              "        vertical-align: middle;\n",
              "    }\n",
              "\n",
              "    .dataframe tbody tr th {\n",
              "        vertical-align: top;\n",
              "    }\n",
              "\n",
              "    .dataframe thead th {\n",
              "        text-align: right;\n",
              "    }\n",
              "</style>\n",
              "<table border=\"1\" class=\"dataframe\">\n",
              "  <thead>\n",
              "    <tr style=\"text-align: right;\">\n",
              "      <th></th>\n",
              "      <th>sepal_length</th>\n",
              "      <th>sepal_width</th>\n",
              "      <th>petal_length</th>\n",
              "      <th>petal_width</th>\n",
              "    </tr>\n",
              "  </thead>\n",
              "  <tbody>\n",
              "    <tr>\n",
              "      <th>count</th>\n",
              "      <td>150.000000</td>\n",
              "      <td>150.000000</td>\n",
              "      <td>150.000000</td>\n",
              "      <td>150.000000</td>\n",
              "    </tr>\n",
              "    <tr>\n",
              "      <th>mean</th>\n",
              "      <td>5.843333</td>\n",
              "      <td>3.057333</td>\n",
              "      <td>3.758000</td>\n",
              "      <td>1.199333</td>\n",
              "    </tr>\n",
              "    <tr>\n",
              "      <th>std</th>\n",
              "      <td>0.828066</td>\n",
              "      <td>0.435866</td>\n",
              "      <td>1.765298</td>\n",
              "      <td>0.762238</td>\n",
              "    </tr>\n",
              "    <tr>\n",
              "      <th>min</th>\n",
              "      <td>4.300000</td>\n",
              "      <td>2.000000</td>\n",
              "      <td>1.000000</td>\n",
              "      <td>0.100000</td>\n",
              "    </tr>\n",
              "    <tr>\n",
              "      <th>25%</th>\n",
              "      <td>5.100000</td>\n",
              "      <td>2.800000</td>\n",
              "      <td>1.600000</td>\n",
              "      <td>0.300000</td>\n",
              "    </tr>\n",
              "    <tr>\n",
              "      <th>50%</th>\n",
              "      <td>5.800000</td>\n",
              "      <td>3.000000</td>\n",
              "      <td>4.350000</td>\n",
              "      <td>1.300000</td>\n",
              "    </tr>\n",
              "    <tr>\n",
              "      <th>75%</th>\n",
              "      <td>6.400000</td>\n",
              "      <td>3.300000</td>\n",
              "      <td>5.100000</td>\n",
              "      <td>1.800000</td>\n",
              "    </tr>\n",
              "    <tr>\n",
              "      <th>max</th>\n",
              "      <td>7.900000</td>\n",
              "      <td>4.400000</td>\n",
              "      <td>6.900000</td>\n",
              "      <td>2.500000</td>\n",
              "    </tr>\n",
              "  </tbody>\n",
              "</table>\n",
              "</div>"
            ],
            "text/plain": [
              "       sepal_length  sepal_width  petal_length  petal_width\n",
              "count    150.000000   150.000000    150.000000   150.000000\n",
              "mean       5.843333     3.057333      3.758000     1.199333\n",
              "std        0.828066     0.435866      1.765298     0.762238\n",
              "min        4.300000     2.000000      1.000000     0.100000\n",
              "25%        5.100000     2.800000      1.600000     0.300000\n",
              "50%        5.800000     3.000000      4.350000     1.300000\n",
              "75%        6.400000     3.300000      5.100000     1.800000\n",
              "max        7.900000     4.400000      6.900000     2.500000"
            ]
          },
          "execution_count": 29,
          "metadata": {},
          "output_type": "execute_result"
        }
      ],
      "source": [
        "# Description for iris dataset\n",
        "iris.describe()"
      ]
    },
    {
      "cell_type": "code",
      "execution_count": 37,
      "metadata": {
        "id": "c64drfqw86pU"
      },
      "outputs": [],
      "source": [
        "# Training Set Configuration\n",
        "train = iris.sample(frac=0.7, random_state=500)\n",
        "\n",
        "# Test Set Configuration\n",
        "test = iris.drop(train.index)\n",
        "\n",
        "# Label remove\n",
        "X_train = train.drop(labels='species', axis=1)\n",
        "\n",
        "# Label stack\n",
        "y_train = train.species\n",
        "\n",
        "# Label remove\n",
        "X_test = test.drop(labels='species', axis=1)\n",
        "\n",
        "# Label stack\n",
        "y_test = test.species"
      ]
    },
    {
      "cell_type": "code",
      "execution_count": 31,
      "metadata": {
        "id": "IUQKvz7zpJil"
      },
      "outputs": [],
      "source": [
        "def decisionTree_train(feature, label):\n",
        "\n",
        "  model = []  \n",
        "  \n",
        "  ##########################################################\n",
        "  ##                       BLANK                          ##\n",
        "  ##########################################################\n",
        "\n",
        "  model = tree.DecisionTreeClassifier()\n",
        "  model = model.fit(feature, label)\n",
        "  return model"
      ]
    },
    {
      "cell_type": "code",
      "execution_count": 32,
      "metadata": {
        "id": "3XsI1IS1Hh69"
      },
      "outputs": [],
      "source": [
        "def decisionTree_test(model, feature):\n",
        "\n",
        "  prediction = []\n",
        "  \n",
        "  ##########################################################\n",
        "  ##                       BLANK                          ##\n",
        "  ##########################################################\n",
        "\n",
        "  for index in range(len(feature)):\n",
        "    feature_at = feature[index]\t\n",
        "    prediction_at = model.predict(feature[index])\n",
        "    prediction.append(prediction_at)\n",
        "\n",
        "  return prediction"
      ]
    },
    {
      "cell_type": "code",
      "execution_count": 33,
      "metadata": {
        "id": "3CqW22z13eY-"
      },
      "outputs": [],
      "source": [
        "def decisionTree_eval(prediction, label):\n",
        "\n",
        "  accuracy = 0\n",
        "  \n",
        "  ##########################################################\n",
        "  ##                       BLANK                          ##\n",
        "  ##########################################################\n",
        "\n",
        "  count_match = 0\n",
        "  count_mismatch = 0\n",
        "  for index in range(len(prediction)):\n",
        "    label_predict = label[index]\n",
        "    label_true = prediction[index,5]\n",
        "    if label_predict == label_true:\n",
        "      count_match += 1\n",
        "    else:\n",
        "      count_mismatch += 1\n",
        "  accuracy = count_match / (count_match + count_mismatch)\n",
        "  \n",
        "  return accuracy"
      ]
    },
    {
      "cell_type": "code",
      "execution_count": 34,
      "metadata": {
        "id": "g6RHjjrv3vgz"
      },
      "outputs": [],
      "source": [
        "def decisionTree_analysis(model):\n",
        "\n",
        "  feature_hist = [0,0,0,0,0]\n",
        "  \n",
        "  ##########################################################\n",
        "  ##                       BLANK                          ##\n",
        "  ##########################################################\n",
        "\n",
        "  fearture_hist = model.feature_importances_\n",
        "\t  \n",
        "  return feature_hist"
      ]
    },
    {
      "cell_type": "code",
      "execution_count": 39,
      "metadata": {
        "id": "BxkkaFBl7x1m"
      },
      "outputs": [],
      "source": [
        "### Decision Tree\n",
        "\n",
        "# Training\n",
        "tree_model = decisionTree_train(X_train,y_train)\n",
        "\n",
        "# Prediction\n",
        "results = decisionTree_test(tree_model, X_test)\n",
        "print(results[:5])\n",
        "\n",
        "# Evaluation\n",
        "accuracy = decisionTree_eval(results, y_test)\n",
        "print('Test accuracy: ' + str(accuracy))\n",
        "\n",
        "# Analysis of Model\n",
        "feature_hist = decisionTree_analysis(tree_model)\n",
        "plt.bar(iris.axes[1][:], feature_hist)\n",
        "plt.title('Number of usages', fontsize=20)\n",
        "plt.show()\n"
      ]
    },
    {
      "cell_type": "code",
      "execution_count": null,
      "metadata": {
        "id": "_oKrDr9S4Mfe"
      },
      "outputs": [],
      "source": []
    }
  ],
  "metadata": {
    "colab": {
      "collapsed_sections": [],
      "name": "Copy of Homework2_DataVisualization.ipynb",
      "provenance": [],
      "toc_visible": true
    },
    "kernelspec": {
      "display_name": "Python 3",
      "name": "python3"
    },
    "language_info": {
      "codemirror_mode": {
        "name": "ipython",
        "version": 3
      },
      "file_extension": ".py",
      "mimetype": "text/x-python",
      "name": "python",
      "nbconvert_exporter": "python",
      "pygments_lexer": "ipython3",
      "version": "3.9.5"
    }
  },
  "nbformat": 4,
  "nbformat_minor": 0
}
