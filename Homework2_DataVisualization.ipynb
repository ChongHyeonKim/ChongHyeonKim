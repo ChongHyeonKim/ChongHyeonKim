{
  "nbformat": 4,
  "nbformat_minor": 0,
  "metadata": {
    "colab": {
      "name": "Homework2_DataVisualization.ipynb",
      "provenance": [],
      "collapsed_sections": [],
      "toc_visible": true,
      "include_colab_link": true
    },
    "kernelspec": {
      "display_name": "Python 3",
      "name": "python3"
    }
  },
  "cells": [
    {
      "cell_type": "markdown",
      "metadata": {
        "id": "view-in-github",
        "colab_type": "text"
      },
      "source": [
        "<a href=\"https://colab.research.google.com/github/ChongHyeonKim/data_visualization/blob/main/Homework2_DataVisualization.ipynb\" target=\"_parent\"><img src=\"https://colab.research.google.com/assets/colab-badge.svg\" alt=\"Open In Colab\"/></a>"
      ]
    },
    {
      "cell_type": "code",
      "metadata": {
        "id": "rFq7DIl8WdRp"
      },
      "source": [
        "from google.colab import files\n",
        "from IPython.display import Image\n",
        "import seaborn as sns\n",
        "import matplotlib.pyplot as plt\n",
        "\n",
        "# Load the iris dataset\n",
        "iris = sns.load_dataset(\"iris\")"
      ],
      "execution_count": null,
      "outputs": []
    },
    {
      "cell_type": "code",
      "metadata": {
        "id": "4nZmcU1editt"
      },
      "source": [
        "# Show the 5-th sample in the iris dataset\n",
        "iris.sample(5)"
      ],
      "execution_count": null,
      "outputs": []
    },
    {
      "cell_type": "code",
      "metadata": {
        "id": "osg1mbVSdng9"
      },
      "source": [
        "import pandas as pd\n",
        "\n",
        "# Print the counts for the class-wise samples\n",
        "pd.value_counts(iris.species)"
      ],
      "execution_count": null,
      "outputs": []
    },
    {
      "cell_type": "code",
      "metadata": {
        "id": "XoTV1XFydpTs"
      },
      "source": [
        "# Description for iris dataset\n",
        "iris.describe()"
      ],
      "execution_count": null,
      "outputs": []
    },
    {
      "cell_type": "code",
      "metadata": {
        "id": "c64drfqw86pU"
      },
      "source": [
        "# Training Set Configuration\n",
        "train = iris.sample(frac=0.7, random_state=500)\n",
        "\n",
        "# Test Set Configuration\n",
        "test = iris.drop(train.index)\n",
        "\n",
        "# Label remove\n",
        "X_train = train.drop(labels='species', axis=1)\n",
        "\n",
        "# Label stack\n",
        "y_train = train.species\n",
        "\n",
        "# Label remove\n",
        "X_test = test.drop(labels='species', axis=1)\n",
        "\n",
        "# Label stack\n",
        "y_test = test.species"
      ],
      "execution_count": null,
      "outputs": []
    },
    {
      "cell_type": "code",
      "metadata": {
        "id": "IUQKvz7zpJil"
      },
      "source": [
        "def decisionTree_train(feature, label):\n",
        "\n",
        "  model = []  \n",
        "  \n",
        "  ##########################################################\n",
        "  ##                       BLANK                          ##\n",
        "  ##########################################################\n",
        "\n",
        "  return model"
      ],
      "execution_count": null,
      "outputs": []
    },
    {
      "cell_type": "code",
      "metadata": {
        "id": "3XsI1IS1Hh69"
      },
      "source": [
        "def decisionTree_test(model, feature):\n",
        "\n",
        "  prediction = []\n",
        "  \n",
        "  ##########################################################\n",
        "  ##                       BLANK                          ##\n",
        "  ##########################################################\n",
        "\n",
        "  return prediction"
      ],
      "execution_count": null,
      "outputs": []
    },
    {
      "cell_type": "code",
      "metadata": {
        "id": "3CqW22z13eY-"
      },
      "source": [
        "def decisionTree_eval(prediction, label):\n",
        "\n",
        "  accuracy = 0\n",
        "  \n",
        "  ##########################################################\n",
        "  ##                       BLANK                          ##\n",
        "  ##########################################################\n",
        "\n",
        "  return accuracy"
      ],
      "execution_count": null,
      "outputs": []
    },
    {
      "cell_type": "code",
      "metadata": {
        "id": "g6RHjjrv3vgz"
      },
      "source": [
        "def decisionTree_analysis(model):\n",
        "\n",
        "  feature_hist = [0,0,0,0,0]\n",
        "  \n",
        "  ##########################################################\n",
        "  ##                       BLANK                          ##\n",
        "  ##########################################################\n",
        "\n",
        "  return feature_hist"
      ],
      "execution_count": null,
      "outputs": []
    },
    {
      "cell_type": "code",
      "metadata": {
        "id": "BxkkaFBl7x1m"
      },
      "source": [
        "### Decision Tree\n",
        "\n",
        "# Training\n",
        "tree_model = decisionTree_train(X_train,y_train)\n",
        "\n",
        "# Prediction\n",
        "results = decisionTree_test(tree_model, X_test)\n",
        "print(results[:5])\n",
        "\n",
        "# Evaluation\n",
        "accuracy = decisionTree_eval(results, y_test)\n",
        "print('Test accuracy: ' + str(accuracy))\n",
        "\n",
        "# Analysis of Model\n",
        "feature_hist = decisionTree_analysis(tree_model)\n",
        "plt.bar(iris.axes[1][:], feature_hist)\n",
        "plt.title('Number of usages', fontsize=20)\n",
        "plt.show()\n"
      ],
      "execution_count": null,
      "outputs": []
    },
    {
      "cell_type": "code",
      "metadata": {
        "id": "_oKrDr9S4Mfe"
      },
      "source": [
        ""
      ],
      "execution_count": null,
      "outputs": []
    }
  ]
}